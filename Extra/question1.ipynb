{
 "cells": [
  {
   "cell_type": "code",
   "execution_count": 1,
   "metadata": {
    "collapsed": true
   },
   "outputs": [],
   "source": [
    "import webbrowser\n",
    "import urllib.request\n",
    "from bs4 import BeautifulSoup"
   ]
  },
  {
   "cell_type": "code",
   "execution_count": 2,
   "metadata": {
    "collapsed": true
   },
   "outputs": [],
   "source": [
    "def func(num):\n",
    "    \"\"\"\n",
    "    Authenticates, then reads the text. \n",
    "    \n",
    "    After, uses BeautifulSoup to get text, and split them into separate words, so that I will be able to run analysis on it. \n",
    "    \"\"\"\n",
    "    username = 'cluesbj@berkeley.edu'\n",
    "    password = 'XwRu3N'\n",
    "    url = \"https://remeeting.com/quiz/python_script.cgi?number=\" + str(num)\n",
    "    p = urllib.request.HTTPPasswordMgrWithDefaultRealm()\n",
    "    p.add_password(None, url, username, password)\n",
    "    handler = urllib.request.HTTPBasicAuthHandler(p)\n",
    "    opener = urllib.request.build_opener(handler)\n",
    "    urllib.request.install_opener(opener)\n",
    "    \n",
    "    page = urllib.request.urlopen(url).read()\n",
    "    soup = BeautifulSoup(page)\n",
    "    text = soup.get_text()\n",
    "    \n",
    "    return_text = text.split()\n",
    "    return return_text"
   ]
  },
  {
   "cell_type": "code",
   "execution_count": null,
   "metadata": {},
   "outputs": [
    {
     "name": "stderr",
     "output_type": "stream",
     "text": [
      "/Users/beomjin_lee/anaconda/lib/python3.6/site-packages/bs4/__init__.py:181: UserWarning: No parser was explicitly specified, so I'm using the best available HTML parser for this system (\"lxml\"). This usually isn't a problem, but if you run this code on another system, or in a different virtual environment, it may use a different parser and behave differently.\n",
      "\n",
      "The code that caused this warning is on line 193 of the file /Users/beomjin_lee/anaconda/lib/python3.6/runpy.py. To get rid of this warning, change code that looks like this:\n",
      "\n",
      " BeautifulSoup(YOUR_MARKUP})\n",
      "\n",
      "to this:\n",
      "\n",
      " BeautifulSoup(YOUR_MARKUP, \"lxml\")\n",
      "\n",
      "  markup_type=markup_type))\n"
     ]
    },
    {
     "name": "stdout",
     "output_type": "stream",
     "text": [
      "144\n"
     ]
    }
   ],
   "source": [
    "# Checks if \"Sorry\" is in the text for 3-digit numbers. \n",
    "# Prints \"i\", the key. \n",
    "for i in range(100, 1000): \n",
    "    text = func(i)\n",
    "    if \"Sorry,\" not in text: \n",
    "        print(i)"
   ]
  },
  {
   "cell_type": "code",
   "execution_count": null,
   "metadata": {
    "collapsed": true
   },
   "outputs": [],
   "source": []
  }
 ],
 "metadata": {
  "kernelspec": {
   "display_name": "Python 3",
   "language": "python",
   "name": "python3"
  },
  "language_info": {
   "codemirror_mode": {
    "name": "ipython",
    "version": 3
   },
   "file_extension": ".py",
   "mimetype": "text/x-python",
   "name": "python",
   "nbconvert_exporter": "python",
   "pygments_lexer": "ipython3",
   "version": "3.6.1"
  }
 },
 "nbformat": 4,
 "nbformat_minor": 2
}
